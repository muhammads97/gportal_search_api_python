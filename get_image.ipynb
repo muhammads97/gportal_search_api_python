{
 "cells": [
  {
   "cell_type": "code",
   "execution_count": 1,
   "metadata": {},
   "outputs": [],
   "source": [
    "from gportal_api import GportalApi\n",
    "import json\n",
    "import numpy as np\n",
    "from utils import inside_polygon"
   ]
  },
  {
   "cell_type": "code",
   "execution_count": 2,
   "metadata": {},
   "outputs": [],
   "source": [
    "token = \"7726524198fa59edb5564f6d939d5b168f1ed1d3288434f000028e2d1d982695f88f11a240a224e75516bca03d3aa9ec38d8dbf918b329733c0329003e9ec10f\"\n",
    "api = GportalApi(token, \"l1b_VNR\")\n",
    "api_l2_rrs = GportalApi(token, \"l2_NWLR\")\n",
    "api_l2_prods = GportalApi(token, \"l2_IWPR\")"
   ]
  },
  {
   "cell_type": "code",
   "execution_count": 3,
   "metadata": {},
   "outputs": [],
   "source": [
    "res = api.search(\"2021/09/09\", \"2021/09/09\", coordinates=(9.42497,47.6429), count = 1000)"
   ]
  },
  {
   "cell_type": "code",
   "execution_count": 4,
   "metadata": {},
   "outputs": [
    {
     "name": "stdout",
     "output_type": "stream",
     "text": [
      "GC1SG1_202109091057F24509_1BSG_VNRDQ_2003\n",
      "GC1SG1_202109091057F24509_1BSG_VNRDL_2003\n"
     ]
    }
   ],
   "source": [
    "for f in res:\n",
    "  print(f[\"properties\"][\"identifier\"])"
   ]
  },
  {
   "cell_type": "code",
   "execution_count": 9,
   "metadata": {},
   "outputs": [],
   "source": [
    "res = api_l2_rrs.search(\"2022/09/01\", \"2022/09/01\", 30, coordinates=(143.98633893963785, 42.69148428122704), count = 1000, path_number=\"057\", scene_number=\"10\", resolution=\"250m\")"
   ]
  },
  {
   "cell_type": "code",
   "execution_count": 6,
   "metadata": {},
   "outputs": [
    {
     "name": "stdout",
     "output_type": "stream",
     "text": [
      "{'fileName': 'https://gportal.jaxa.jp/download/standard/GCOM-C/GCOM-C.SGLI/L1B/2/2021/09/09/GC1SG1_202109091057F24509_1BSG_VNRDQ_2003.h5', 'size': '696254464', 'DataFormatType': 'HDF5', 'version': '2'}\n",
      "{'fileName': 'https://gportal.jaxa.jp/download/standard/GCOM-C/GCOM-C.SGLI/L1B/2/2021/09/09/GC1SG1_202109091057F24509_1BSG_VNRDL_2003.h5', 'size': '67108864', 'DataFormatType': 'HDF5', 'version': '2'}\n"
     ]
    }
   ],
   "source": [
    "for f in res:\n",
    "  print(f[\"properties\"][\"product\"])"
   ]
  }
 ],
 "metadata": {
  "kernelspec": {
   "display_name": "Python 3",
   "language": "python",
   "name": "python3"
  },
  "language_info": {
   "codemirror_mode": {
    "name": "ipython",
    "version": 3
   },
   "file_extension": ".py",
   "mimetype": "text/x-python",
   "name": "python",
   "nbconvert_exporter": "python",
   "pygments_lexer": "ipython3",
   "version": "3.9.13"
  },
  "orig_nbformat": 4,
  "vscode": {
   "interpreter": {
    "hash": "49e9be40cc9a5383128402683213e1baba42501d7feb69bcf2cf824ed7bfff47"
   }
  }
 },
 "nbformat": 4,
 "nbformat_minor": 2
}
